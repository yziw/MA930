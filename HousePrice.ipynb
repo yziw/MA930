{
 "cells": [
  {
   "cell_type": "code",
   "execution_count": 16,
   "metadata": {},
   "outputs": [],
   "source": [
    "using PyPlot\n",
    "using Statistics\n",
    "using Distributions\n",
    "using DelimitedFiles\n",
    "using StatsBase"
   ]
  },
  {
   "cell_type": "code",
   "execution_count": 6,
   "metadata": {},
   "outputs": [
    {
     "data": {
      "text/plain": [
       "104308×16 Array{Any,2}:\n",
       " \"{773788C2-3852-2CE4-E053-6C04A8C05E57}\"  …  \"NORTH SOMERSET\"         \"A\"  \"A\"\n",
       " \"{773788C2-5C4A-2CE4-E053-6C04A8C05E57}\"     \"CORNWALL\"               \"A\"  \"A\"\n",
       " \"{773788C2-6BBD-2CE4-E053-6C04A8C05E57}\"     \"DEVON\"                  \"A\"  \"A\"\n",
       " \"{773788C2-6BEC-2CE4-E053-6C04A8C05E57}\"     \"DEVON\"                  \"A\"  \"A\"\n",
       " \"{773788C2-71DA-2CE4-E053-6C04A8C05E57}\"     \"DORSET\"                 \"A\"  \"A\"\n",
       " \"{773788C2-8177-2CE4-E053-6C04A8C05E57}\"  …  \"GREATER LONDON\"         \"A\"  \"A\"\n",
       " \"{773788C2-A4A2-2CE4-E053-6C04A8C05E57}\"     \"HERTFORDSHIRE\"          \"A\"  \"A\"\n",
       " \"{773788C3-32CB-2CE4-E053-6C04A8C05E57}\"     \"SOUTH YORKSHIRE\"        \"A\"  \"A\"\n",
       " \"{773788C3-365B-2CE4-E053-6C04A8C05E57}\"     \"SOUTH YORKSHIRE\"        \"A\"  \"A\"\n",
       " \"{773788C3-3F34-2CE4-E053-6C04A8C05E57}\"     \"GREATER LONDON\"         \"A\"  \"A\"\n",
       " \"{773788C3-47F8-2CE4-E053-6C04A8C05E57}\"  …  \"THE VALE OF GLAMORGAN\"  \"A\"  \"A\"\n",
       " \"{773788C3-4B4B-2CE4-E053-6C04A8C05E57}\"     \"CARDIFF\"                \"A\"  \"A\"\n",
       " \"{773788C3-4D1E-2CE4-E053-6C04A8C05E57}\"     \"GWYNEDD\"                \"A\"  \"A\"\n",
       " ⋮                                         ⋱                                ⋮  \n",
       " \"{75050A85-DECE-9A88-E053-6B04A8C02390}\"     \"WEST MIDLANDS\"          \"A\"  \"D\"\n",
       " \"{75050A85-DED1-9A88-E053-6B04A8C02390}\"     \"WEST MIDLANDS\"          \"A\"  \"D\"\n",
       " \"{75050A85-DEDD-9A88-E053-6B04A8C02390}\"     \"WEST MIDLANDS\"          \"A\"  \"D\"\n",
       " \"{75050A85-DEDF-9A88-E053-6B04A8C02390}\"     \"WEST MIDLANDS\"          \"A\"  \"D\"\n",
       " \"{75050A86-2B11-9A88-E053-6B04A8C02390}\"  …  \"WEST YORKSHIRE\"         \"B\"  \"D\"\n",
       " \"{75050A86-2493-9A88-E053-6B04A8C02390}\"     \"TYNE AND WEAR\"          \"B\"  \"D\"\n",
       " \"{75050A86-2498-9A88-E053-6B04A8C02390}\"     \"TYNE AND WEAR\"          \"B\"  \"D\"\n",
       " \"{75050A86-26C1-9A88-E053-6B04A8C02390}\"     \"WARWICKSHIRE\"           \"B\"  \"D\"\n",
       " \"{75050A86-26C2-9A88-E053-6B04A8C02390}\"     \"WARWICKSHIRE\"           \"B\"  \"D\"\n",
       " \"{75050A86-28E9-9A88-E053-6B04A8C02390}\"  …  \"WEST SUSSEX\"            \"B\"  \"D\"\n",
       " \"{75050A86-28EC-9A88-E053-6B04A8C02390}\"     \"WEST SUSSEX\"            \"B\"  \"D\"\n",
       " \"{75050A86-2B0A-9A88-E053-6B04A8C02390}\"     \"WEST YORKSHIRE\"         \"B\"  \"D\""
      ]
     },
     "execution_count": 6,
     "metadata": {},
     "output_type": "execute_result"
    }
   ],
   "source": [
    "M = readdlm(\"pp-monthly-update-new-version.csv\", ',')\n",
    "# L, V= size(M)"
   ]
  },
  {
   "cell_type": "code",
   "execution_count": 3,
   "metadata": {},
   "outputs": [
    {
     "ename": "UndefVarError",
     "evalue": "UndefVarError: M not defined",
     "output_type": "error",
     "traceback": [
      "UndefVarError: M not defined",
      "",
      "Stacktrace:",
      " [1] top-level scope at In[3]:1"
     ]
    }
   ],
   "source": [
    "M[57000, 2]"
   ]
  },
  {
   "cell_type": "code",
   "execution_count": 7,
   "metadata": {},
   "outputs": [
    {
     "data": {
      "text/plain": [
       "104308-element Array{Any,1}:\n",
       " 148950\n",
       " 230000\n",
       " 340000\n",
       " 175000\n",
       " 190000\n",
       " 163000\n",
       " 205000\n",
       "  84000\n",
       " 181000\n",
       " 148000\n",
       " 225000\n",
       " 112000\n",
       "  95000\n",
       "      ⋮\n",
       " 159500\n",
       "  77500\n",
       " 163000\n",
       " 195000\n",
       " 550000\n",
       " 160000\n",
       " 121000\n",
       " 164300\n",
       " 164300\n",
       " 107350\n",
       " 107350\n",
       "  55000"
      ]
     },
     "execution_count": 7,
     "metadata": {},
     "output_type": "execute_result"
    }
   ],
   "source": [
    "prices = M[:, 2]"
   ]
  },
  {
   "cell_type": "code",
   "execution_count": 15,
   "metadata": {},
   "outputs": [
    {
     "name": "stderr",
     "output_type": "stream",
     "text": [
      "┌ Warning: Default for keyword argument \"closed\" has changed from :right to :left.\n",
      "│ To avoid this warning, specify closed=:right or closed=:left as appropriate.\n",
      "│   caller = #fit#106(::Base.Iterators.Pairs{Union{},Union{},Tuple{},NamedTuple{(),Tuple{}}}, ::Function, ::Type{Histogram}, ::Array{Any,1}) at hist.jl:340\n",
      "└ @ StatsBase /home/yuanyi/.julia/packages/StatsBase/NzjNi/src/hist.jl:340\n"
     ]
    },
    {
     "ename": "MethodError",
     "evalue": "MethodError: no method matching AbstractFloat(::Type{Any})\nClosest candidates are:\n  AbstractFloat(!Matched::Bool) at float.jl:250\n  AbstractFloat(!Matched::Int8) at float.jl:251\n  AbstractFloat(!Matched::Int16) at float.jl:252\n  ...",
     "output_type": "error",
     "traceback": [
      "MethodError: no method matching AbstractFloat(::Type{Any})\nClosest candidates are:\n  AbstractFloat(!Matched::Bool) at float.jl:250\n  AbstractFloat(!Matched::Int8) at float.jl:251\n  AbstractFloat(!Matched::Int16) at float.jl:252\n  ...",
      "",
      "Stacktrace:",
      " [1] float(::Type) at ./float.jl:269",
      " [2] histrange(::Array{Any,1}, ::Int64, ::Symbol) at /home/yuanyi/.julia/packages/StatsBase/NzjNi/src/hist.jl:44",
      " [3] (::getfield(StatsBase, Symbol(\"##87#88\")){Symbol})(::Array{Any,1}, ::Int64) at /home/yuanyi/.julia/packages/StatsBase/NzjNi/src/hist.jl:120",
      " [4] map(::getfield(StatsBase, Symbol(\"##87#88\")){Symbol}, ::Tuple{Array{Any,1}}, ::Tuple{Int64}) at ./tuple.jl:181",
      " [5] histrange(::Tuple{Array{Any,1}}, ::Tuple{Int64}, ::Symbol) at /home/yuanyi/.julia/packages/StatsBase/NzjNi/src/hist.jl:119",
      " [6] #fit#103(::Symbol, ::Int64, ::Function, ::Type{Histogram{Int64,N,E} where E where N}, ::Tuple{Array{Any,1}}) at /home/yuanyi/.julia/packages/StatsBase/NzjNi/src/hist.jl:287",
      " [7] (::getfield(StatsBase, Symbol(\"#kw##fit\")))(::NamedTuple{(:closed, :nbins),Tuple{Symbol,Int64}}, ::typeof(fit), ::Type{Histogram{Int64,N,E} where E where N}, ::Tuple{Array{Any,1}}) at ./none:0",
      " [8] #fit#96(::Symbol, ::Int64, ::Function, ::Type{Histogram{Int64,N,E} where E where N}, ::Array{Any,1}) at /home/yuanyi/.julia/packages/StatsBase/NzjNi/src/hist.jl:227",
      " [9] fit(::Type{Histogram{Int64,N,E} where E where N}, ::Array{Any,1}) at /home/yuanyi/.julia/packages/StatsBase/NzjNi/src/hist.jl:227",
      " [10] #fit#106(::Base.Iterators.Pairs{Union{},Union{},Tuple{},NamedTuple{(),Tuple{}}}, ::Function, ::Type{Histogram}, ::Array{Any,1}) at /home/yuanyi/.julia/packages/StatsBase/NzjNi/src/hist.jl:340",
      " [11] fit(::Type{Histogram}, ::Array{Any,1}) at /home/yuanyi/.julia/packages/StatsBase/NzjNi/src/hist.jl:340",
      " [12] top-level scope at In[15]:1"
     ]
    }
   ],
   "source": [
    "h = fit(Histogram, prices)"
   ]
  },
  {
   "cell_type": "code",
   "execution_count": 29,
   "metadata": {},
   "outputs": [
    {
     "data": {
      "text/plain": [
       "0.5"
      ]
     },
     "execution_count": 29,
     "metadata": {},
     "output_type": "execute_result"
    }
   ],
   "source": [
    "zL = invlogcdf(Normal(), log(0.005))\n",
    "udev = 5/sqrt(100)"
   ]
  },
  {
   "cell_type": "code",
   "execution_count": 20,
   "metadata": {},
   "outputs": [
    {
     "data": {
      "image/png": "[encoded data removed]",
      "text/plain": [
       "Figure(PyObject <Figure size 640x480 with 1 Axes>)"
      ]
     },
     "metadata": {},
     "output_type": "display_data"
    },
    {
     "data": {
      "text/plain": [
       "([104287.0, 14.0, 3.0, 2.0, 0.0, 0.0, 0.0, 1.0, 0.0, 1.0], [100.0, 4.48302e7, 8.96603e7, 1.3449e8, 1.7932e8, 2.24151e8, 2.68981e8, 3.13811e8, 3.58641e8, 4.03471e8, 4.48301e8], PyCall.PyObject[PyObject <matplotlib.patches.Rectangle object at 0x7f43d9c52d68>, PyObject <matplotlib.patches.Rectangle object at 0x7f43d9c52b70>, PyObject <matplotlib.patches.Rectangle object at 0x7f43d9c5a390>, PyObject <matplotlib.patches.Rectangle object at 0x7f43d9c5a6d8>, PyObject <matplotlib.patches.Rectangle object at 0x7f43d9c5aa20>, PyObject <matplotlib.patches.Rectangle object at 0x7f43d9c5ad68>, PyObject <matplotlib.patches.Rectangle object at 0x7f43d9c640f0>, PyObject <matplotlib.patches.Rectangle object at 0x7f43d9c64438>, PyObject <matplotlib.patches.Rectangle object at 0x7f43d9c64780>, PyObject <matplotlib.patches.Rectangle object at 0x7f43d9c64ac8>])"
      ]
     },
     "execution_count": 20,
     "metadata": {},
     "output_type": "execute_result"
    }
   ],
   "source": [
    "plt[:hist](prices)"
   ]
  },
  {
   "cell_type": "code",
   "execution_count": 28,
   "metadata": {},
   "outputs": [
    {
     "data": {
      "text/plain": [
       "99.70559707214028"
      ]
     },
     "execution_count": 28,
     "metadata": {},
     "output_type": "execute_result"
    }
   ],
   "source": [
    "101 + zL * udev"
   ]
  },
  {
   "cell_type": "code",
   "execution_count": null,
   "metadata": {},
   "outputs": [],
   "source": []
  }
 ],
 "metadata": {
  "@webio": {
   "lastCommId": "c06bff4ab6624d318a71a2d22342552b",
   "lastKernelId": "86552c1e-5b1f-4739-a356-3eb6057bbd8e"
  },
  "kernelspec": {
   "display_name": "Julia 1.0.1",
   "language": "julia",
   "name": "julia-1.0"
  },
  "language_info": {
   "file_extension": ".jl",
   "mimetype": "application/julia",
   "name": "julia",
   "version": "1.0.1"
  }
 },
 "nbformat": 4,
 "nbformat_minor": 2
}
