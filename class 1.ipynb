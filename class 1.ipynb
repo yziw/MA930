{
 "cells": [
  {
   "cell_type": "code",
   "execution_count": 5,
   "metadata": {},
   "outputs": [
    {
     "data": {
      "text/plain": [
       "0.0:0.5050505050505051:50.0"
      ]
     },
     "execution_count": 5,
     "metadata": {},
     "output_type": "execute_result"
    }
   ],
   "source": [
    "x = range(0, 50, length = 100)"
   ]
  },
  {
   "cell_type": "code",
   "execution_count": 6,
   "metadata": {},
   "outputs": [
    {
     "name": "stdout",
     "output_type": "stream",
     "text": [
      "0.0:0.5050505050505051:50.0"
     ]
    }
   ],
   "source": [
    "print(x)"
   ]
  },
  {
   "cell_type": "code",
   "execution_count": 11,
   "metadata": {},
   "outputs": [
    {
     "ename": "MethodError",
     "evalue": "MethodError: no method matching exp(::StepRangeLen{Float64,Base.TwicePrecision{Float64},Base.TwicePrecision{Float64}})\nClosest candidates are:\n  exp(!Matched::BigFloat) at mpfr.jl:558\n  exp(!Matched::Missing) at math.jl:1070\n  exp(!Matched::Complex{Float16}) at math.jl:1019\n  ...",
     "output_type": "error",
     "traceback": [
      "MethodError: no method matching exp(::StepRangeLen{Float64,Base.TwicePrecision{Float64},Base.TwicePrecision{Float64}})\nClosest candidates are:\n  exp(!Matched::BigFloat) at mpfr.jl:558\n  exp(!Matched::Missing) at math.jl:1070\n  exp(!Matched::Complex{Float16}) at math.jl:1019\n  ...",
      "",
      "Stacktrace:",
      " [1] top-level scope at In[11]:2"
     ]
    }
   ],
   "source": [
    "a = 1.5\n",
    "density = exp(-x/a)/a"
   ]
  },
  {
   "cell_type": "code",
   "execution_count": 12,
   "metadata": {},
   "outputs": [
    {
     "name": "stderr",
     "output_type": "stream",
     "text": [
      "┌ Info: Recompiling stale cache file /home/yuanyi/.julia/compiled/v1.0/PyPlot/oatAj.ji for PyPlot [d330b81b-6aea-500a-939a-2ce795aea3ee]\n",
      "└ @ Base loading.jl:1187\n"
     ]
    },
    {
     "ename": "LoadError",
     "evalue": "syntax: unexpected \"=\"",
     "output_type": "error",
     "traceback": [
      "syntax: unexpected \"=\"",
      ""
     ]
    }
   ],
   "source": [
    "using\n",
    "PyPlot\n",
    "a\n",
    "=\n",
    "1.5\n",
    ";\n",
    "x\n",
    "=\n",
    "collect\n",
    "(\n",
    "0\n",
    ":\n",
    "0.1\n",
    ":\n",
    "10\n",
    ")\n",
    "f\n",
    "=\n",
    "exp\n",
    ".\n",
    "(\n",
    "-\n",
    "x\n",
    "/\n",
    "a\n",
    ")\n",
    "/\n",
    "a\n",
    "F\n",
    "=\n",
    "1\n",
    ".-\n",
    "exp\n",
    ".\n",
    "(\n",
    "-\n",
    "x\n",
    "/\n",
    "a\n",
    ");\n",
    "figure\n",
    "(\n",
    "figsize\n",
    "=\n",
    "(\n",
    "5\n",
    ",\n",
    "5\n",
    "));\n",
    "subplot\n",
    "(\n",
    "2\n",
    ",\n",
    "1\n",
    ",\n",
    "1\n",
    ");\n",
    "plot\n",
    "(\n",
    "x\n",
    ",\n",
    "f\n",
    ");\n",
    "ylabel\n",
    "(\n",
    "\"f(x)\"\n",
    ");\n",
    "grid\n",
    "();\n",
    "axis\n",
    "([\n",
    "0\n",
    ",\n",
    "10\n",
    ",\n",
    "0\n",
    ",\n",
    "1\n",
    "])\n",
    "subplot\n",
    "(\n",
    "2\n",
    ",\n",
    "1\n",
    ",\n",
    "2\n",
    ");\n",
    "plot\n",
    "(\n",
    "x\n",
    ",\n",
    "F\n",
    ");\n",
    "xlabel\n",
    "(\n",
    "\"x\"\n",
    ");\n",
    "ylabel\n",
    "(\n",
    "\"F(x)\"\n",
    ");\n",
    "grid\n",
    "();\n",
    "a\n",
    "xis\n",
    "([\n",
    "0\n",
    ",\n",
    "10\n",
    ",\n",
    "0\n",
    ",\n",
    "1\n",
    "]);"
   ]
  },
  {
   "cell_type": "code",
   "execution_count": null,
   "metadata": {},
   "outputs": [],
   "source": [
    "using Pkg\n",
    "Pkg.add(\"Statistics\")"
   ]
  }
 ],
 "metadata": {
  "kernelspec": {
   "display_name": "Julia 1.0.1",
   "language": "julia",
   "name": "julia-1.0"
  },
  "language_info": {
   "file_extension": ".jl",
   "mimetype": "application/julia",
   "name": "julia",
   "version": "1.0.1"
  }
 },
 "nbformat": 4,
 "nbformat_minor": 2
}
